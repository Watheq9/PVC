{
 "cells": [
  {
   "cell_type": "code",
   "execution_count": null,
   "metadata": {},
   "outputs": [],
   "source": [
    "import os, sys\n",
    "sys.path.append('../') \n",
    "sys.path.append('../../') \n",
    "import toml\n",
    "import pandas as pd\n",
    "import os, json\n",
    "import time\n",
    "import configure as cf\n",
    "from helper import evaluate, utils"
   ]
  },
  {
   "cell_type": "markdown",
   "metadata": {},
   "source": [
    "### 1. Convert the corpora to tsv format"
   ]
  },
  {
   "cell_type": "code",
   "execution_count": null,
   "metadata": {},
   "outputs": [],
   "source": [
    "project_dir = \"path_to_your_project\"\n",
    "corpus_path = [\n",
    "f\"{project_dir}/data/dataset_files/spotify_120_60_time_segment.jsonl\",\n",
    "f\"{project_dir}/data/dataset_files/whisperX-base_120_60_time_segment.jsonl\",\n",
    "f\"{project_dir}/data/dataset_files/whisperX-large-v3_120_60_time_segment.jsonl\",\n",
    "f\"{project_dir}/data/dataset_files/silero-small_120_60_time_segment.jsonl\",\n",
    "f\"{project_dir}/data/dataset_files/silero-large_120_60_time_segment.jsonl\",\n",
    "]\n",
    "\n",
    "splade_corpus_dir = f\"{project_dir}/data/splade/corpus\"\n",
    "\n",
    "for c_path in corpus_path:\n",
    "    filename = os.path.basename(c_path).split(\".\")[0] + \".tsv\" # save file in tsv format\n",
    "    save_path = f\"{splade_corpus_dir}/{filename}\"\n",
    "    \n",
    "    print(f\"reading corpus from {c_path}\")\n",
    "    df = utils.read_jsonl(c_path)\n",
    "    df[[\"id\", \"seg_words\"]].to_csv(save_path, index=False, header=False, sep='\\t')\n",
    "    print(f\"File was converted and saved successfully to {save_path}\")\n",
    "\n",
    "tsv_paths = [\n",
    "f\"{project_dir}/data/splade_corpus/spotify_120_60_time_segment.tsv\",\n",
    "f\"{project_dir}/data/splade_corpus/whisperX-base_120_60_time_segment.tsv\",\n",
    "f\"{project_dir}/data/splade_corpus/whisperX-large-v3_120_60_time_segment.tsv\",\n",
    "f\"{project_dir}/data/splade_corpus/silero-small_120_60_time_segment.tsv\",\n",
    "f\"{project_dir}/data/splade_corpus/silero-large_120_60_time_segment.tsv\",\n",
    "]"
   ]
  },
  {
   "cell_type": "markdown",
   "metadata": {},
   "source": [
    "### 2. Prepare the config file. \n",
    "\n",
    "For the spotify corpus, this is its content (saved in the name \"spotify_splade++_cocondenser_ensembledistil_monogpu.yaml\"):\n",
    "\n",
    "\n",
    "/# FILES\n",
    "defaults: # (these specify which config FILES to use)\n",
    "  ############## TRAIN ###################################\n",
    "  - train/config: splade_monogpu\n",
    "  - train/data: distil_from_ensemble\n",
    "  - train/model: splade_cocondenser\n",
    "  ############## INDEX ###################################\n",
    "  - index: msmarco\n",
    "  ############## RETRIEVE ################################\n",
    "  - retrieve_evaluate: all\n",
    "  ############### FLOPS ##################################\n",
    "  - flops: msmarco\n",
    "\n",
    "\n",
    "/# Direct PARAMETER setting\n",
    "config:\n",
    "  loss: DistilMarginMSE\n",
    "  regularizer:\n",
    "    FLOPS:\n",
    "      lambda_q: 0.5\n",
    "      lambda_d: 0.4\n",
    "      T: 50000\n",
    "      targeted_rep: rep\n",
    "      reg: FLOPS\n",
    "  checkpoint_dir: models/cocondenser_ensemble_distil_monogpu/checkpoint\n",
    "  index_dir: models/cocondenser_ensemble_distil_monogpu/index\n",
    "  out_dir: models/cocondenser_ensemble_distil_monogpu/out\n",
    "  max_length: 510\n",
    "\n",
    "\n",
    "data:\n",
    "  COLLECTION_PATH: ${project_dir}/data/splade_corpus/spotify_120_60_time_segment.tsv\n",
    "\n"
   ]
  },
  {
   "cell_type": "markdown",
   "metadata": {},
   "source": [
    "### 3. Run indexing \n",
    "\n",
    "tr_model=\"spotify\"\n",
    "splade_model=\"splade-cocondenser-ensembledistil\"\n",
    "data_dir=\"${project_dir}/data\"\n",
    "index_dir=\"${data_dir}/indexes/${tr_model}/${splade_model}\"\n",
    "run_dir=\"${data_dir}/runs/${tr_model}/${splade_model}\"\n",
    "corpus=\"${data_dir}/splade_corpus/${tr_model}_120_60_time_segment.tsv\"\n",
    "\n",
    "export CUDA_VISIBLE_DEVICES=0\n",
    "export PYTHONPATH=$PYTHONPATH:$(pwd)\n",
    "export SPLADE_CONFIG_NAME=\"spotify_spladepp_cocondenser_ensembledistil_monogpu.yaml\"\n",
    "\n",
    "python3 -m splade.index \\\n",
    "init_dict.model_type_or_dir=naver/${splade_model} \\\n",
    "config.pretrained_no_yamlconfig=true \\\n",
    "config.index_dir=${index_dir} \\\n",
    "data.COLLECTION_PATH=$corpus\n",
    "\n",
    "python -m splade.retrieve \\\n",
    "init_dict.model_type_or_dir=naver/${splade_model}  \\\n",
    "config.pretrained_no_yamlconfig=true \\\n",
    "config.index_dir=${index_dir} \\\n",
    "config.out_dir=${run_dir} \\\n",
    "index=msmarco \\  # <--- added\n",
    "retrieve_evaluate=msmarco # <--- added"
   ]
  },
  {
   "cell_type": "markdown",
   "metadata": {},
   "source": []
  }
 ],
 "metadata": {
  "kernelspec": {
   "display_name": "podcast-LLM",
   "language": "python",
   "name": "python3"
  },
  "language_info": {
   "codemirror_mode": {
    "name": "ipython",
    "version": 3
   },
   "file_extension": ".py",
   "mimetype": "text/x-python",
   "name": "python",
   "nbconvert_exporter": "python",
   "pygments_lexer": "ipython3",
   "version": "3.10.13"
  }
 },
 "nbformat": 4,
 "nbformat_minor": 2
}
